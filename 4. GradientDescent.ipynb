{
 "cells": [
  {
   "cell_type": "markdown",
   "metadata": {},
   "source": [
    "Implement Gradient Descent Algorithm to find the local minima of a function.For example, find the local minima of the function y=(x+3)² starting from the point x=2.\n"
   ]
  },
  {
   "cell_type": "code",
   "execution_count": 94,
   "metadata": {},
   "outputs": [],
   "source": [
    "#Initialize Parameters\n",
    "cur_x = 2\n",
    "rate = 0.01\n",
    "precision = 0.000001\n",
    "previous_step_size = 1\n",
    "max_iters = 1000\n",
    "iters = 0\n",
    "df = lambda x : 2 * (x + 3) #Gradient of our function i.e (x + 3)²"
   ]
  },
  {
   "cell_type": "code",
   "execution_count": 95,
   "metadata": {},
   "outputs": [
    {
     "name": "stdout",
     "output_type": "stream",
     "text": [
      "Local Minima Occurs at : -2.999951128099859\n"
     ]
    }
   ],
   "source": [
    "#Run a loop to perform gradient Descent\n",
    "while previous_step_size > precision and iters < max_iters:\n",
    "    prev_x = cur_x\n",
    "    cur_x -= rate * df(prev_x)\n",
    "    previous_step_size = abs(prev_x - cur_x)\n",
    "    iters += 1\n",
    "print(\"Local Minima Occurs at :\",cur_x)"
   ]
  },
  {
   "cell_type": "code",
   "execution_count": 96,
   "metadata": {},
   "outputs": [
    {
     "name": "stdout",
     "output_type": "stream",
     "text": [
      "2.0*(x + 3)**1.0\n",
      "10.0000000000000\n"
     ]
    }
   ],
   "source": [
    "import numpy as np\n",
    "import pandas as pd\n",
    "import sympy as sym\n",
    "import matplotlib as pyplot\n",
    "from matplotlib import pyplot\n",
    "\n",
    "\n",
    "def function(x):\n",
    "    return (x+3)**2\n",
    "\n",
    "\n",
    "def derivative(x):\n",
    "    return 2*(x+3)\n",
    "\n",
    "def gradient(alpha,start,max_iter):\n",
    "    x_list=list()\n",
    "    x=start\n",
    "    x_list.append(x)\n",
    "    for i in range(max_iter):\n",
    "        gradi=derivative(x)\n",
    "        x=x-(alpha*gradi)\n",
    "        x_list.append(x)\n",
    "    return x_list\n",
    "    \n",
    "x=sym.symbols('x')\n",
    "expr=(x+3)**2.0\n",
    "\n",
    "problem= sym.Derivative(expr,x)\n",
    "\n",
    "print(problem.doit())\n",
    "print(problem.doit().subs(x, 2))\n"
   ]
  },
  {
   "cell_type": "code",
   "execution_count": 97,
   "metadata": {},
   "outputs": [],
   "source": [
    "rate=0.1\n",
    "start=2\n",
    "max_iter=30"
   ]
  },
  {
   "cell_type": "code",
   "execution_count": 98,
   "metadata": {},
   "outputs": [
    {
     "data": {
      "text/plain": [
       "[<matplotlib.lines.Line2D at 0x1f0436c3348>]"
      ]
     },
     "execution_count": 98,
     "metadata": {},
     "output_type": "execute_result"
    },
    {
     "data": {
      "image/png": "[encoded data removed]",
      "text/plain": [
       "<Figure size 432x288 with 1 Axes>"
      ]
     },
     "metadata": {
      "needs_background": "light"
     },
     "output_type": "display_data"
    }
   ],
   "source": [
    "points=np.linspace(-15,15,100)\n",
    "pyplot.plot(points,function(points))\n",
    "\n",
    "pyplot.plot(2,function(2),\"o\", color=\"red\")"
   ]
  },
  {
   "cell_type": "code",
   "execution_count": 99,
   "metadata": {},
   "outputs": [
    {
     "data": {
      "image/png": "[encoded data removed]",
      "text/plain": [
       "<Figure size 432x288 with 1 Axes>"
      ]
     },
     "metadata": {
      "needs_background": "light"
     },
     "output_type": "display_data"
    }
   ],
   "source": [
    "\n",
    "points=np.linspace(-5,5,100)\n",
    "pyplot.plot(points,function(points))\n",
    "\n",
    "x=gradient(rate,start,max_iter)\n",
    "x_arr=np.array(x)\n",
    "pyplot.plot(x_arr,function(x_arr),'.-',color='red')\n",
    "pyplot.show()"
   ]
  }
 ],
 "metadata": {
  "kernelspec": {
   "display_name": "Python 3.7.6 64-bit",
   "language": "python",
   "name": "python3"
  },
  "language_info": {
   "codemirror_mode": {
    "name": "ipython",
    "version": 3
   },
   "file_extension": ".py",
   "mimetype": "text/x-python",
   "name": "python",
   "nbconvert_exporter": "python",
   "pygments_lexer": "ipython3",
   "version": "3.7.6"
  },
  "orig_nbformat": 4,
  "vscode": {
   "interpreter": {
    "hash": "075e7697b1812e749085b743464b52fb7d88a126d7992be949fc7d73290588b0"
   }
  }
 },
 "nbformat": 4,
 "nbformat_minor": 2
}
