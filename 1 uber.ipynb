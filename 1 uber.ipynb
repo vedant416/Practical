{
 "cells": [
  {
   "cell_type": "code",
   "execution_count": null,
   "metadata": {},
   "outputs": [],
   "source": [
    "\"\"\"\n",
    "Predict the price of the Uber ride from a given pickup point to the agreed drop-off location. Perform following tasks:\n",
    "1.  Pre-process the dataset. \n",
    "2.  Identify outliers. \n",
    "3.  Check the correlation. \n",
    "4.  Implement linear regression and random forest regression models. \n",
    "5.  Evaluate the models and compare their respective scores like R2, RMSE, etc.\n",
    "\"\"\"\n"
   ]
  },
  {
   "cell_type": "code",
   "execution_count": null,
   "metadata": {},
   "outputs": [],
   "source": [
    "import pandas as pd  # loading csv\n",
    "import numpy as np  # for np.sqrt\n",
    "import matplotlib.pyplot as plt\n",
    "\n",
    "from sklearn.model_selection import train_test_split\n",
    "from sklearn.preprocessing import StandardScaler\n",
    "from sklearn.linear_model import LinearRegression\n",
    "from sklearn.ensemble import RandomForestRegressor\n",
    "from sklearn.metrics import mean_squared_error\n",
    "\n",
    "import geopy\n",
    "\n",
    "import warnings\n",
    "warnings.filterwarnings(\"ignore\")\n"
   ]
  },
  {
   "cell_type": "code",
   "execution_count": null,
   "metadata": {},
   "outputs": [],
   "source": [
    "df = pd.read_csv(\"uber.csv\")\n"
   ]
  },
  {
   "cell_type": "code",
   "execution_count": null,
   "metadata": {},
   "outputs": [],
   "source": [
    "# df[\"pickup_datetime\"] = pd.to_datetime(df[\"pickup_datetime\"])\n",
    "df.dropna(inplace=True)  # drop null\n"
   ]
  },
  {
   "cell_type": "code",
   "execution_count": null,
   "metadata": {},
   "outputs": [],
   "source": [
    "df = df[(df.pickup_latitude < 90) & (df.dropoff_latitude < 90) &\n",
    "        (df.pickup_latitude > -90) & (df.dropoff_latitude > -90) &\n",
    "        (df.pickup_longitude < 180) & (df.dropoff_longitude < 180) &\n",
    "        (df.pickup_longitude > -180) & (df.dropoff_longitude > -180)]\n",
    "\n",
    "df.pickup_datetime = pd.to_datetime(df.pickup_datetime)\n",
    "\n",
    "df['Distance'] = [round(geopy.distance.distance((df.pickup_latitude[i], df.pickup_longitude[i]),\n",
    "                        (df.dropoff_latitude[i], df.dropoff_longitude[i])).km, 2) for i in df.index]\n",
    "\n",
    "\n",
    "df.head()\n"
   ]
  },
  {
   "cell_type": "code",
   "execution_count": null,
   "metadata": {},
   "outputs": [],
   "source": [
    "plt.scatter(df['Distance'], df['fare_amount'])\n",
    "plt.xlabel(\"Distance\")\n",
    "plt.ylabel(\"fare_amount\")\n"
   ]
  },
  {
   "cell_type": "code",
   "execution_count": null,
   "metadata": {},
   "outputs": [],
   "source": [
    "# Outliers\n",
    "df.drop(df[df['Distance'] > 60].index, inplace=True)\n",
    "\n",
    "# zeros and negatives\n",
    "df.drop(df[df['Distance'] == 0].index, inplace=True)\n",
    "df.drop(df[df['Distance'] < 0].index, inplace=True)\n",
    "df.drop(df[df['fare_amount'] == 0].index, inplace=True)\n",
    "df.drop(df[df['fare_amount'] < 0].index, inplace=True)\n",
    "\n",
    "df.drop(df[df['Distance'] > 100].index, inplace=True)\n",
    "df.drop(df[df['fare_amount'] > 100].index, inplace=True)\n",
    "\n",
    "# impossible\n",
    "df.drop(df[(df['fare_amount'] > 100) & (\n",
    "    df['Distance'] < 1)].index, inplace=True)\n",
    "df.drop(df[(df['fare_amount'] < 100) & (\n",
    "    df['Distance'] > 100)].index, inplace=True)\n"
   ]
  },
  {
   "cell_type": "code",
   "execution_count": null,
   "metadata": {},
   "outputs": [],
   "source": [
    "plt.scatter(df['Distance'], df['fare_amount'])\n",
    "plt.xlabel(\"Distance\")\n",
    "plt.ylabel(\"fare_amount\")\n"
   ]
  },
  {
   "cell_type": "code",
   "execution_count": null,
   "metadata": {},
   "outputs": [],
   "source": [
    "from tabulate import tabulate\n",
    "corr = df.corr()\n",
    "\n",
    "corr.style.background_gradient(cmap='BuGn')\n",
    "\n",
    "# print(tabulate(corr, headers='keys', tablefmt='psql'))\n",
    "corr"
   ]
  },
  {
   "cell_type": "code",
   "execution_count": null,
   "metadata": {},
   "outputs": [],
   "source": [
    "X = df['Distance'].values.reshape(-1, 1)  # Independent Variable\n",
    "y = df['fare_amount'].values.reshape(-1, 1)  # Dependent Variable\n"
   ]
  },
  {
   "cell_type": "code",
   "execution_count": null,
   "metadata": {},
   "outputs": [],
   "source": [
    "\n",
    "std = StandardScaler()\n",
    "\n",
    "y_std = std.fit_transform(y)\n",
    "print(y_std)\n",
    "\n",
    "x_std = std.fit_transform(X)\n",
    "print(x_std)\n"
   ]
  },
  {
   "cell_type": "code",
   "execution_count": null,
   "metadata": {},
   "outputs": [],
   "source": [
    "X_train, X_test, y_train, y_test = train_test_split(x_std, y_std, test_size=0.2, random_state=0)\n"
   ]
  },
  {
   "cell_type": "code",
   "execution_count": null,
   "metadata": {},
   "outputs": [],
   "source": [
    "# LinearRegression\n",
    "model = LinearRegression()\n",
    "model.fit(X_train, y_train)\n",
    "\n",
    "predict = model.predict(X_test)\n",
    "\n",
    "rmse_error = np.sqrt(mean_squared_error(predict, y_test))\n",
    "print(\"RMSE error for the model is \", rmse_error)\n"
   ]
  },
  {
   "cell_type": "code",
   "execution_count": null,
   "metadata": {},
   "outputs": [],
   "source": [
    "# RandomForest\n",
    "model = RandomForestRegressor(random_state=101)\n",
    "model.fit(X_train, y_train)\n",
    "\n",
    "predict = model.predict(X_test)\n",
    "\n",
    "rmse_error = np.sqrt(mean_squared_error(predict, y_test))\n",
    "print(\"RMSE value for Random Forest is:\", rmse_error)\n"
   ]
  }
 ],
 "metadata": {
  "kernelspec": {
   "display_name": "Python 3.7.6 64-bit",
   "language": "python",
   "name": "python3"
  },
  "language_info": {
   "codemirror_mode": {
    "name": "ipython",
    "version": 3
   },
   "file_extension": ".py",
   "mimetype": "text/x-python",
   "name": "python",
   "nbconvert_exporter": "python",
   "pygments_lexer": "ipython3",
   "version": "3.7.6"
  },
  "orig_nbformat": 4,
  "vscode": {
   "interpreter": {
    "hash": "075e7697b1812e749085b743464b52fb7d88a126d7992be949fc7d73290588b0"
   }
  }
 },
 "nbformat": 4,
 "nbformat_minor": 2
}
